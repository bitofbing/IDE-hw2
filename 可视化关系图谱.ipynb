{
 "cells": [
  {
   "cell_type": "code",
   "id": "initial_id",
   "metadata": {
    "collapsed": true,
    "ExecuteTime": {
     "end_time": "2025-04-24T12:25:48.824400Z",
     "start_time": "2025-04-24T12:25:48.293310Z"
    }
   },
   "source": [
    "from SPARQLWrapper import SPARQLWrapper, JSON\n",
    "import networkx as nx\n",
    "from pyvis.network import Network\n",
    "from IPython.display import display, HTML"
   ],
   "outputs": [],
   "execution_count": 1
  },
  {
   "metadata": {
    "ExecuteTime": {
     "end_time": "2025-04-25T06:11:44.937112Z",
     "start_time": "2025-04-25T06:11:42.852604Z"
    }
   },
   "cell_type": "code",
   "source": [
    "import requests\n",
    "\n",
    "url = \"http://localhost:9000\"\n",
    "\n",
    "sparql_query = \"\"\"\n",
    "PREFIX ub: <http://swat.cse.lehigh.edu/onto/univ-bench.owl#>\n",
    "PREFIX rdf: <http://www.w3.org/1999/02/22-rdf-syntax-ns#>\n",
    "SELECT ?professor ?course WHERE {\n",
    "    ?professor rdf:type ub:Professor .\n",
    "    ?professor ub:teacherOf ?course .\n",
    "}\n",
    "\"\"\"\n",
    "\n",
    "payload = {\n",
    "    \"username\": \"root\",\n",
    "    \"password\": \"123456\",\n",
    "    \"db_name\": \"lubm\",\n",
    "    \"operation\": \"query\",\n",
    "    \"format\": \"json\",\n",
    "    \"sparql\": sparql_query\n",
    "}\n",
    "\n",
    "headers = {\n",
    "    \"Content-Type\": \"application/json\"\n",
    "}\n",
    "\n",
    "response = requests.post(url, json=payload, headers=headers)\n",
    "print(response.json())\n"
   ],
   "id": "5f85e4bde85d0927",
   "outputs": [
    {
     "name": "stdout",
     "output_type": "stream",
     "text": [
      "{'StatusCode': 1005, 'StatusMsg': 'Database not load yet.'}\n"
     ]
    }
   ],
   "execution_count": 8
  },
  {
   "metadata": {
    "ExecuteTime": {
     "end_time": "2025-04-25T07:20:11.376094Z",
     "start_time": "2025-04-25T07:20:09.315819Z"
    }
   },
   "cell_type": "code",
   "source": [
    "import requests\n",
    "from pyvis.network import Network\n",
    "\n",
    "# gStore 接口地址\n",
    "url = \"http://localhost:9000\"\n",
    "label_uri = \"http://www.wikidata.org/entity/Q1047508\"  # Interscope Records\n",
    "\n",
    "# SPARQL 查询\n",
    "sparql_query = f\"\"\"\n",
    "PREFIX wdt: <http://www.wikidata.org/prop/direct/>\n",
    "PREFIX rdfs: <http://www.w3.org/2000/01/rdf-schema#>\n",
    "\n",
    "SELECT ?artist ?artistLabel ?work ?workLabel ?coArtist ?coArtistLabel\n",
    "WHERE {{\n",
    "  ?artist wdt:P264 <{label_uri}> .\n",
    "  ?work wdt:P175 ?artist .\n",
    "  OPTIONAL {{\n",
    "    ?work wdt:P175 ?coArtist .\n",
    "    FILTER(?coArtist != ?artist)\n",
    "  }}\n",
    "  OPTIONAL {{ ?artist rdfs:label ?artistLabel . FILTER(LANG(?artistLabel) = \"en\") }}\n",
    "  OPTIONAL {{ ?work rdfs:label ?workLabel . FILTER(LANG(?workLabel) = \"en\") }}\n",
    "  OPTIONAL {{ ?coArtist rdfs:label ?coArtistLabel . FILTER(LANG(?coArtistLabel) = \"en\") }}\n",
    "}}\n",
    "LIMIT 100\n",
    "\"\"\"\n",
    "\n",
    "payload = {\n",
    "    \"username\": \"root\",\n",
    "    \"password\": \"123456\",\n",
    "    \"db_name\": \"wikidata_music\",\n",
    "    \"operation\": \"query\",\n",
    "    \"format\": \"json\",\n",
    "    \"sparql\": sparql_query\n",
    "}\n",
    "\n",
    "headers = {\n",
    "    \"Content-Type\": \"application/json\"\n",
    "}\n",
    "\n",
    "response = requests.post(url, json=payload, headers=headers)\n",
    "data = response.json()\n",
    "\n",
    "# 打印结果以供检查\n",
    "print(data)"
   ],
   "id": "377ac3e7eae85e62",
   "outputs": [
    {
     "name": "stdout",
     "output_type": "stream",
     "text": [
      "{'head': {'link': [], 'vars': ['artist', 'artistLabel', 'work', 'workLabel', 'coArtist', 'coArtistLabel']}, 'results': {'bindings': []}, 'StatusCode': 0, 'StatusMsg': 'success', 'AnsNum': 0, 'OutputLimit': 100, 'ThreadId': '139815928891072', 'QueryTime': '1'}\n"
     ]
    }
   ],
   "execution_count": 21
  },
  {
   "metadata": {
    "ExecuteTime": {
     "end_time": "2025-04-25T07:49:52.285044Z",
     "start_time": "2025-04-25T07:49:50.174851Z"
    }
   },
   "cell_type": "code",
   "source": [
    "from pyvis.network import Network\n",
    "import requests\n",
    "\n",
    "# gStore 查询接口\n",
    "url = \"http://localhost:9000\"\n",
    "label_uri = \"http://www.wikidata.org/entity/Q21077\"  # Warner Music Group\n",
    "\n",
    "# SPARQL 查询语句（不含共同艺人）\n",
    "sparql_query = f\"\"\"\n",
    "PREFIX wdt: <http://www.wikidata.org/prop/direct/>\n",
    "PREFIX rdfs: <http://www.w3.org/2000/01/rdf-schema#>\n",
    "\n",
    "SELECT ?artist ?artistLabel ?work ?workLabel\n",
    "WHERE {{\n",
    "  ?artist wdt:P264 <{label_uri}> .\n",
    "  ?work wdt:P175 ?artist .\n",
    "  OPTIONAL {{ ?artist rdfs:label ?artistLabel . FILTER(LANG(?artistLabel) = \"en\") }}\n",
    "  OPTIONAL {{ ?work rdfs:label ?workLabel . FILTER(LANG(?workLabel) = \"en\") }}\n",
    "}}\n",
    "LIMIT 50\n",
    "\"\"\"\n",
    "\n",
    "payload = {\n",
    "    \"username\": \"root\",\n",
    "    \"password\": \"123456\",\n",
    "    \"db_name\": \"wikidata_music\",\n",
    "    \"operation\": \"query\",\n",
    "    \"format\": \"json\",\n",
    "    \"sparql\": sparql_query\n",
    "}\n",
    "\n",
    "headers = {\"Content-Type\": \"application/json\"}\n",
    "\n",
    "# 请求数据\n",
    "try:\n",
    "    response = requests.post(url, json=payload, headers=headers)\n",
    "    results = response.json()\n",
    "except Exception as e:\n",
    "    print(f\"❌ 请求失败：{e}\")\n",
    "    results = {\"results\": {\"bindings\": []}}\n",
    "\n",
    "# 初始化 PyVis 网络图\n",
    "# 初始化 PyVis 网络图\n",
    "net = Network(height=\"800px\", width=\"100%\", bgcolor=\"#1e1e1e\", font_color=\"white\")\n",
    "net.force_atlas_2based(gravity=-25, central_gravity=0.02, spring_length=200, spring_strength=0.05)\n",
    "\n",
    "added_nodes = set()\n",
    "bindings = results.get(\"results\", {}).get(\"bindings\", [])\n",
    "\n",
    "if not bindings:\n",
    "    print(\"⚠ 查询结果为空，未生成任何图谱。\")\n",
    "\n",
    "# 添加厂牌节点\n",
    "net.add_node(label_uri, label=\"Warner Music Group\", title=label_uri,\n",
    "             color=\"#ff6666\", shape=\"triangle\", size=30)\n",
    "added_nodes.add(label_uri)\n",
    "\n",
    "# 构建图谱\n",
    "for row in bindings:\n",
    "    artist_uri = row[\"artist\"][\"value\"]\n",
    "    artist_label = row.get(\"artistLabel\", {}).get(\"value\", artist_uri)\n",
    "\n",
    "    work_uri = row[\"work\"][\"value\"]\n",
    "    work_label = row.get(\"workLabel\", {}).get(\"value\", work_uri)\n",
    "\n",
    "    # 添加艺术家节点\n",
    "    if artist_uri not in added_nodes:\n",
    "        net.add_node(artist_uri, label=artist_label, title=artist_uri,\n",
    "                     color=\"#6fa8dc\", shape=\"dot\", size=20)\n",
    "        added_nodes.add(artist_uri)\n",
    "\n",
    "    # 添加作品节点\n",
    "    if work_uri not in added_nodes:\n",
    "        net.add_node(work_uri, label=work_label, title=work_uri,\n",
    "                     color=\"#f6b26b\", shape=\"box\", size=15)\n",
    "        added_nodes.add(work_uri)\n",
    "\n",
    "    # 边连接\n",
    "    net.add_edge(label_uri, artist_uri, title=\"signed with\", color=\"#bbbbbb\")\n",
    "    net.add_edge(artist_uri, work_uri, title=\"performed\", color=\"#ffffff\")\n",
    "\n",
    "# 展示图谱（改为 write_html）\n",
    "try:\n",
    "    output_file = \"music_graph_simple.html\"\n",
    "    net.write_html(output_file)\n",
    "    print(f\"✅ 图谱 HTML 已生成：{output_file}（请手动用浏览器打开）\")\n",
    "except Exception as e:\n",
    "    print(f\"❌ 图谱生成失败：{e}\")"
   ],
   "id": "edb50b6c3a833304",
   "outputs": [
    {
     "name": "stdout",
     "output_type": "stream",
     "text": [
      "✅ 图谱 HTML 已生成：music_graph_simple.html（请手动用浏览器打开）\n"
     ]
    }
   ],
   "execution_count": 37
  }
 ],
 "metadata": {
  "kernelspec": {
   "display_name": "Python 3",
   "language": "python",
   "name": "python3"
  },
  "language_info": {
   "codemirror_mode": {
    "name": "ipython",
    "version": 2
   },
   "file_extension": ".py",
   "mimetype": "text/x-python",
   "name": "python",
   "nbconvert_exporter": "python",
   "pygments_lexer": "ipython2",
   "version": "2.7.6"
  }
 },
 "nbformat": 4,
 "nbformat_minor": 5
}
